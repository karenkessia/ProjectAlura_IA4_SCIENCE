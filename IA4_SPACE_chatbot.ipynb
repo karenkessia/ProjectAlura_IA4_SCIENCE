{
  "cells": [
    {
      "cell_type": "markdown",
      "metadata": {
        "id": "view-in-github",
        "colab_type": "text"
      },
      "source": [
        "<a href=\"https://colab.research.google.com/github/karenkessia/ProjectAlura_IA4_SCIENCE/blob/main/IA4_SPACE_chatbot.ipynb\" target=\"_parent\"><img src=\"https://colab.research.google.com/assets/colab-badge.svg\" alt=\"Open In Colab\"/></a>"
      ]
    },
    {
      "cell_type": "markdown",
      "source": [
        "**Instalação SDK Google**"
      ],
      "metadata": {
        "id": "gaYAxRQQzff5"
      }
    },
    {
      "cell_type": "code",
      "execution_count": null,
      "metadata": {
        "id": "oifeAF_tr3e4",
        "colab": {
          "base_uri": "https://localhost:8080/"
        },
        "outputId": "b820345c-3b58-4303-d2c8-ab7115a8a4d0",
        "collapsed": true
      },
      "outputs": [
        {
          "output_type": "stream",
          "name": "stdout",
          "text": [
            "\n",
            "Usage:   \n",
            "  pip3 install [options] <requirement specifier> [package-index-options] ...\n",
            "  pip3 install [options] -r <requirements file> [package-index-options] ...\n",
            "  pip3 install [options] [-e] <vcs project url> ...\n",
            "  pip3 install [options] [-e] <local project path> ...\n",
            "  pip3 install [options] <archive url/path> ...\n",
            "\n",
            "no such option: -u\n"
          ]
        }
      ],
      "source": [
        "!pip install -q -u google-generativeai"
      ]
    },
    {
      "cell_type": "code",
      "execution_count": null,
      "metadata": {
        "id": "9gv5BOl3sr6v"
      },
      "outputs": [],
      "source": [
        "import google.generativeai as genai"
      ]
    },
    {
      "cell_type": "code",
      "execution_count": null,
      "metadata": {
        "id": "0IED_4tOs6--"
      },
      "outputs": [],
      "source": [
        "from google.colab import userdata\n",
        "api_key = userdata.get('SECRET_KEY')\n",
        "genai.configure(api_key=api_key)"
      ]
    },
    {
      "cell_type": "markdown",
      "source": [
        "**Configurações**"
      ],
      "metadata": {
        "id": "iuLgez_1zuxz"
      }
    },
    {
      "cell_type": "code",
      "execution_count": 22,
      "metadata": {
        "id": "ybqvJ7adtqmF",
        "collapsed": true
      },
      "outputs": [],
      "source": [
        "\n",
        "generation_config= {\n",
        "    \"candidate_count\": 1 ,\n",
        "    \"temperature\": 0.5 ,\n",
        "}\n",
        "\n",
        "safety_settings={\n",
        "    \"harassment\": \"block_none\",\n",
        "    \"hate\": \"block_none\",\n",
        "    \"sexual\": \"block_none\",\n",
        "    \"dangerous\": \"block_none\",\n",
        "}\n",
        "\n",
        "model=genai.GenerativeModel( model_name= \"gemini-1.0-pro\",\n",
        "                            generation_config=generation_config,\n",
        "                             safety_settings=safety_settings)"
      ]
    },
    {
      "cell_type": "markdown",
      "source": [
        "**Projeto - Expresso Chatbot com uma demonstração simples e fácil.**\n",
        "\n",
        "\n",
        "*   Demonstração iniciante no projeto.\n",
        "*   Amostra significativa em termos de desafio.\n",
        "\n"
      ],
      "metadata": {
        "id": "K5423BDZ0NY1"
      }
    },
    {
      "cell_type": "code",
      "execution_count": null,
      "metadata": {
        "colab": {
          "base_uri": "https://localhost:8080/"
        },
        "id": "VxvhKQnwIZd8",
        "outputId": "9b6deced-e21a-4c2a-f566-be6af97f81d0"
      },
      "outputs": [
        {
          "output_type": "stream",
          "name": "stdout",
          "text": [
            "Bem-vindo a bordo, astronauta! Sou o IA4-SCIENCE, seu assistente de bordo.\n",
            "Para acessar as demais informações detalhadas da missão e outros, digite 'ajuda'.\n",
            "\n"
          ]
        }
      ],
      "source": [
        "def chatbot_astronauta():\n",
        "  \"\"\"\n",
        "  Função que simula um chatbot para comunicação entre astronautas e naves,\n",
        "  com um menu de ajuda e informações detalhadas sobre a missão.\n",
        "  \"\"\"\n",
        "  print(\"Bem-vindo a bordo, astronauta! Sou o IA4-SCIENCE, seu assistente de bordo.\")\n",
        "  print(\"Para acessar as demais informações detalhadas da missão e outros, digite 'ajuda'.\\n\")\n",
        "\n",
        "  sessao_ativa = False\n",
        "\n",
        "  while True:\n",
        "    mensagem = input(\"Você: \")\n",
        "    mensagem = mensagem.lower()\n",
        "\n",
        "    if \"ajuda\" in mensagem:\n",
        "      sessao_ativa = True\n",
        "      print(\"\\nSessão de Ajuda Iniciada.\")\n",
        "      print(\"Comandos disponíveis:\")\n",
        "      print(\"  - temperatura: Informa a temperatura interna e externa da nave.\")\n",
        "      print(\"  - objetivo: Descreve o objetivo da missão e sua duração.\")\n",
        "      print(\"  - iluminação: Informa o nível de iluminação da cabine e permite ajustes.\")\n",
        "      print(\"  - posição: Informa a posição orbital atual da nave.\")\n",
        "      print(\"  - altitude: Informa a altitude atual da nave.\")\n",
        "      print(\"  - duração: Informa o tempo total da missão e o tempo restante.\")\n",
        "      print(\"  - status da nave: Informa o status dos sistemas da nave.\")\n",
        "      print(\"  - status dos astronautas: Informa o status dos astronautas a bordo.\")\n",
        "      print(\"  - sair: Encerra a sessão de ajuda.\")\n",
        "    elif sessao_ativa:\n",
        "      if \"temperatura\" in mensagem:\n",
        "        print(\"Nave: Temperatura interna: 23°C. Temperatura externa: -100°C. Deseja alterar? (sim/não)\")\n",
        "        resposta= input(\"Você: \")\n",
        "        if \"sim\" in resposta:\n",
        "          print(\"Nave: Ajustando temperatura adequada...\") # Simulação de ajuste\n",
        "          print(\"Temperatura ajustada com sucesso!\")\n",
        "        else:\n",
        "          print(\"Nave: Temperatura mantida.\")\n",
        "      elif \"objetivo\" in mensagem:\n",
        "        print(\"Nave: Exploração e coleta de dados em Marte. Duração prevista: 2 anos.\")\n",
        "      elif \"iluminação\" in mensagem:\n",
        "        print(\"Nave: Iluminação da cabine em 70%. Deseja ajustar? (sim/não)\")\n",
        "        resposta = input(\"Você: \")\n",
        "        if \"sim\" in resposta:\n",
        "          print(\"Nave: Ajustando iluminação...\") # Simulação de ajuste\n",
        "          print(\"Iluminação ajustada com sucesso!\")\n",
        "        else:\n",
        "          print(\"Nave: Iluminação mantida.\")\n",
        "      elif \"posição\" in mensagem:\n",
        "        print(\"Nave: Orbitando Marte a 300km de altitude.\")\n",
        "      elif \"altitude\" in mensagem:\n",
        "        print(\"Nave: Altitude atual: 300km.\")\n",
        "      elif \"duração\" in mensagem:\n",
        "        print(\"Nave: Tempo total da missão: 2 anos. Tempo restante: 1 ano e 6 meses.\")\n",
        "      elif \"status da nave\" in mensagem:\n",
        "        print(\"Nave: Todos os sistemas operacionais. Sem anomalias.\" \"Operando Normalmente\")\n",
        "        print(\"Localização atual: Órbita marciana.\")\n",
        "      elif \"status dos astronautas\" in mensagem:\n",
        "        print(\"Nave: Astronauta 1: Ativo. Astronauta 2: Inativo (em sono criogênico).\")\n",
        "      elif \"sair\" in mensagem:\n",
        "        sessao_ativa = False\n",
        "        print(\"Nave: Sessão de Ajuda encerrada. Obrigado por estar aqui.\")\n",
        "      else:\n",
        "        print(\"Nave: Comando inválido. Digite 'ajuda' para ver as opções.\")\n",
        "    else:\n",
        "      print(\"Nave: Para acessar as informações da missão, digite 'ajuda'.\")\n",
        "\n",
        "chatbot_astronauta()"
      ]
    }
  ],
  "metadata": {
    "colab": {
      "provenance": [],
      "authorship_tag": "ABX9TyMncXhuVv6TpzpgspjBd4hO",
      "include_colab_link": true
    },
    "kernelspec": {
      "display_name": "Python 3",
      "name": "python3"
    },
    "language_info": {
      "name": "python"
    }
  },
  "nbformat": 4,
  "nbformat_minor": 0
}