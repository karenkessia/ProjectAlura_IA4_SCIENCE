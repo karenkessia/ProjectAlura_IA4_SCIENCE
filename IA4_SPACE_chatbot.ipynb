{
  "cells": [
    {
      "cell_type": "markdown",
      "metadata": {
        "id": "view-in-github",
        "colab_type": "text"
      },
      "source": [
        "<a href=\"https://colab.research.google.com/github/karenkessia/ProjectAlura_IA4_SCIENCE/blob/main/IA4_SPACE_chatbot.ipynb\" target=\"_parent\"><img src=\"https://colab.research.google.com/assets/colab-badge.svg\" alt=\"Open In Colab\"/></a>"
      ]
    },
    {
      "cell_type": "markdown",
      "source": [
        "**Instalação SDK Google**"
      ],
      "metadata": {
        "id": "gaYAxRQQzff5"
      }
    },
    {
      "cell_type": "code",
      "execution_count": null,
      "metadata": {
        "id": "oifeAF_tr3e4"
      },
      "outputs": [],
      "source": [
        "!pip install -q -u google-generativeai"
      ]
    },
    {
      "cell_type": "code",
      "execution_count": null,
      "metadata": {
        "id": "9gv5BOl3sr6v"
      },
      "outputs": [],
      "source": [
        "import google.generativeai as genai"
      ]
    },
    {
      "cell_type": "code",
      "execution_count": null,
      "metadata": {
        "id": "0IED_4tOs6--"
      },
      "outputs": [],
      "source": [
        "from google.colab import userdata\n",
        "api_key = userdata.get('SECRET_KEY')\n",
        "genai.configure(api_key=api_key)"
      ]
    },
    {
      "cell_type": "markdown",
      "source": [
        "**Listagem de Modelo e Configuração**"
      ],
      "metadata": {
        "id": "iuLgez_1zuxz"
      }
    },
    {
      "cell_type": "code",
      "execution_count": null,
      "metadata": {
        "id": "ybqvJ7adtqmF",
        "colab": {
          "base_uri": "https://localhost:8080/",
          "height": 211
        },
        "collapsed": true,
        "outputId": "ca1011b6-ed39-4611-93e7-e3b0e3f866f0"
      },
      "outputs": [
        {
          "output_type": "error",
          "ename": "NameError",
          "evalue": "name 'genai' is not defined",
          "traceback": [
            "\u001b[0;31m---------------------------------------------------------------------------\u001b[0m",
            "\u001b[0;31mNameError\u001b[0m                                 Traceback (most recent call last)",
            "\u001b[0;32m<ipython-input-10-5c20d1bed4e6>\u001b[0m in \u001b[0;36m<cell line: 1>\u001b[0;34m()\u001b[0m\n\u001b[0;32m----> 1\u001b[0;31m \u001b[0;32mfor\u001b[0m \u001b[0mm\u001b[0m \u001b[0;32min\u001b[0m \u001b[0mgenai\u001b[0m\u001b[0;34m.\u001b[0m\u001b[0mlist_models\u001b[0m\u001b[0;34m(\u001b[0m\u001b[0;34m)\u001b[0m\u001b[0;34m:\u001b[0m\u001b[0;34m\u001b[0m\u001b[0;34m\u001b[0m\u001b[0m\n\u001b[0m\u001b[1;32m      2\u001b[0m   \u001b[0;32mif\u001b[0m \u001b[0;34m'generatecontent'\u001b[0m \u001b[0;32min\u001b[0m \u001b[0mm\u001b[0m\u001b[0;34m.\u001b[0m\u001b[0msupported_generation_methods\u001b[0m\u001b[0;34m:\u001b[0m\u001b[0;34m\u001b[0m\u001b[0;34m\u001b[0m\u001b[0m\n\u001b[1;32m      3\u001b[0m     \u001b[0mprint\u001b[0m \u001b[0;34m(\u001b[0m\u001b[0mm\u001b[0m\u001b[0;34m.\u001b[0m\u001b[0mname\u001b[0m\u001b[0;34m)\u001b[0m\u001b[0;34m\u001b[0m\u001b[0;34m\u001b[0m\u001b[0m\n\u001b[1;32m      4\u001b[0m \u001b[0;34m\u001b[0m\u001b[0m\n\u001b[1;32m      5\u001b[0m generation_config= {\n",
            "\u001b[0;31mNameError\u001b[0m: name 'genai' is not defined"
          ]
        }
      ],
      "source": [
        "for m in genai.list_models():\n",
        "  if 'generatecontent' in m.supported_generation_methods:\n",
        "    print (m.name)\n",
        "\n",
        "generation_config= {\n",
        "    \"candidate_count\": 1 ,\n",
        "    \"temperature\": 0.5 ,\n",
        "}\n",
        "\n",
        "safety_settings={\n",
        "    \"harassment\": \"block_none\",\n",
        "    \"hate\": \"block_none\",\n",
        "    \"sexual\": \"block_none\",\n",
        "    \"dangerous\": \"block_none\",\n",
        "}"
      ]
    },
    {
      "cell_type": "markdown",
      "source": [
        "**Inicializando o Modelo**"
      ],
      "metadata": {
        "id": "yjVeXJr80HIf"
      }
    },
    {
      "cell_type": "code",
      "execution_count": null,
      "metadata": {
        "id": "OIdi0d-B3t76",
        "colab": {
          "base_uri": "https://localhost:8080/",
          "height": 176
        },
        "collapsed": true,
        "outputId": "e6eb53bd-bcd9-4625-8bcf-e4adb426b80e"
      },
      "outputs": [
        {
          "output_type": "error",
          "ename": "NameError",
          "evalue": "name 'genai' is not defined",
          "traceback": [
            "\u001b[0;31m---------------------------------------------------------------------------\u001b[0m",
            "\u001b[0;31mNameError\u001b[0m                                 Traceback (most recent call last)",
            "\u001b[0;32m<ipython-input-2-96a2660045cc>\u001b[0m in \u001b[0;36m<cell line: 1>\u001b[0;34m()\u001b[0m\n\u001b[0;32m----> 1\u001b[0;31m model=genai.GenerativeModel( model_name= \"gemini-1.0-pro\",\n\u001b[0m\u001b[1;32m      2\u001b[0m                             \u001b[0mgeneration_config\u001b[0m\u001b[0;34m=\u001b[0m\u001b[0mgeneration_config\u001b[0m\u001b[0;34m,\u001b[0m\u001b[0;34m\u001b[0m\u001b[0;34m\u001b[0m\u001b[0m\n\u001b[1;32m      3\u001b[0m                              safety_settings=safety_settings)\n",
            "\u001b[0;31mNameError\u001b[0m: name 'genai' is not defined"
          ]
        }
      ],
      "source": [
        "model=genai.GenerativeModel( model_name= \"gemini-1.0-pro\",\n",
        "                            generation_config=generation_config,\n",
        "                             safety_settings=safety_settings)\n"
      ]
    },
    {
      "cell_type": "markdown",
      "source": [
        "**Projeto - Expresso Chatbot com uma demonstração simples e fácil.**\n",
        "\n",
        "\n",
        "*   Demonstração iniciante no projeto.\n",
        "*   Amostra significativa em termos de desafio.\n",
        "\n"
      ],
      "metadata": {
        "id": "K5423BDZ0NY1"
      }
    },
    {
      "cell_type": "code",
      "execution_count": null,
      "metadata": {
        "colab": {
          "base_uri": "https://localhost:8080/",
          "height": 703
        },
        "id": "VxvhKQnwIZd8",
        "collapsed": true,
        "outputId": "d6fa6ef6-515b-41e1-ea30-0e0175fc1f3f"
      },
      "outputs": [
        {
          "output_type": "stream",
          "name": "stdout",
          "text": [
            "Bem-vindo a bordo, astronauta! Sou o IA4-SCIENCE, seu assistente de bordo.\n",
            "Para acessar as demais informações detalhadas da missão e outros, digite 'ajuda'.\n",
            "\n",
            "Você: ajuda\n",
            "\n",
            "Sessão de Ajuda Iniciada.\n",
            "Comandos disponíveis:\n",
            "  - temperatura: Informa a temperatura interna e externa da nave.\n",
            "  - objetivo: Descreve o objetivo da missão e sua duração.\n",
            "  - iluminação: Informa o nível de iluminação da cabine e permite ajustes.\n",
            "  - posição: Informa a posição orbital atual da nave.\n",
            "  - altitude: Informa a altitude atual da nave.\n",
            "  - duração: Informa o tempo total da missão e o tempo restante.\n",
            "  - status da nave: Informa o status dos sistemas da nave.\n",
            "  - status dos astronautas: Informa o status dos astronautas a bordo.\n",
            "  - sair: Encerra a sessão de ajuda.\n",
            "Você: iluminação\n",
            "Nave: Iluminação da cabine em 70%. Deseja ajustar? (sim/não)\n",
            "Você: não\n",
            "Nave: Iluminação mantida.\n",
            "Você: sair\n",
            "Nave: Sessão de Ajuda encerrada. Obrigado por estar aqui.\n"
          ]
        },
        {
          "output_type": "error",
          "ename": "KeyboardInterrupt",
          "evalue": "Interrupted by user",
          "traceback": [
            "\u001b[0;31m---------------------------------------------------------------------------\u001b[0m",
            "\u001b[0;31mKeyboardInterrupt\u001b[0m                         Traceback (most recent call last)",
            "\u001b[0;32m<ipython-input-17-c0537da1b176>\u001b[0m in \u001b[0;36m<cell line: 66>\u001b[0;34m()\u001b[0m\n\u001b[1;32m     64\u001b[0m       \u001b[0mprint\u001b[0m\u001b[0;34m(\u001b[0m\u001b[0;34m\"Nave: Para acessar as informações da missão, digite 'ajuda'.\"\u001b[0m\u001b[0;34m)\u001b[0m\u001b[0;34m\u001b[0m\u001b[0;34m\u001b[0m\u001b[0m\n\u001b[1;32m     65\u001b[0m \u001b[0;34m\u001b[0m\u001b[0m\n\u001b[0;32m---> 66\u001b[0;31m \u001b[0mchatbot_astronauta\u001b[0m\u001b[0;34m(\u001b[0m\u001b[0;34m)\u001b[0m\u001b[0;34m\u001b[0m\u001b[0;34m\u001b[0m\u001b[0m\n\u001b[0m",
            "\u001b[0;32m<ipython-input-17-c0537da1b176>\u001b[0m in \u001b[0;36mchatbot_astronauta\u001b[0;34m()\u001b[0m\n\u001b[1;32m     10\u001b[0m \u001b[0;34m\u001b[0m\u001b[0m\n\u001b[1;32m     11\u001b[0m   \u001b[0;32mwhile\u001b[0m \u001b[0;32mTrue\u001b[0m\u001b[0;34m:\u001b[0m\u001b[0;34m\u001b[0m\u001b[0;34m\u001b[0m\u001b[0m\n\u001b[0;32m---> 12\u001b[0;31m     \u001b[0mmensagem\u001b[0m \u001b[0;34m=\u001b[0m \u001b[0minput\u001b[0m\u001b[0;34m(\u001b[0m\u001b[0;34m\"Você: \"\u001b[0m\u001b[0;34m)\u001b[0m\u001b[0;34m\u001b[0m\u001b[0;34m\u001b[0m\u001b[0m\n\u001b[0m\u001b[1;32m     13\u001b[0m     \u001b[0mmensagem\u001b[0m \u001b[0;34m=\u001b[0m \u001b[0mmensagem\u001b[0m\u001b[0;34m.\u001b[0m\u001b[0mlower\u001b[0m\u001b[0;34m(\u001b[0m\u001b[0;34m)\u001b[0m\u001b[0;34m\u001b[0m\u001b[0;34m\u001b[0m\u001b[0m\n\u001b[1;32m     14\u001b[0m \u001b[0;34m\u001b[0m\u001b[0m\n",
            "\u001b[0;32m/usr/local/lib/python3.10/dist-packages/ipykernel/kernelbase.py\u001b[0m in \u001b[0;36mraw_input\u001b[0;34m(self, prompt)\u001b[0m\n\u001b[1;32m    849\u001b[0m                 \u001b[0;34m\"raw_input was called, but this frontend does not support input requests.\"\u001b[0m\u001b[0;34m\u001b[0m\u001b[0;34m\u001b[0m\u001b[0m\n\u001b[1;32m    850\u001b[0m             )\n\u001b[0;32m--> 851\u001b[0;31m         return self._input_request(str(prompt),\n\u001b[0m\u001b[1;32m    852\u001b[0m             \u001b[0mself\u001b[0m\u001b[0;34m.\u001b[0m\u001b[0m_parent_ident\u001b[0m\u001b[0;34m,\u001b[0m\u001b[0;34m\u001b[0m\u001b[0;34m\u001b[0m\u001b[0m\n\u001b[1;32m    853\u001b[0m             \u001b[0mself\u001b[0m\u001b[0;34m.\u001b[0m\u001b[0m_parent_header\u001b[0m\u001b[0;34m,\u001b[0m\u001b[0;34m\u001b[0m\u001b[0;34m\u001b[0m\u001b[0m\n",
            "\u001b[0;32m/usr/local/lib/python3.10/dist-packages/ipykernel/kernelbase.py\u001b[0m in \u001b[0;36m_input_request\u001b[0;34m(self, prompt, ident, parent, password)\u001b[0m\n\u001b[1;32m    893\u001b[0m             \u001b[0;32mexcept\u001b[0m \u001b[0mKeyboardInterrupt\u001b[0m\u001b[0;34m:\u001b[0m\u001b[0;34m\u001b[0m\u001b[0;34m\u001b[0m\u001b[0m\n\u001b[1;32m    894\u001b[0m                 \u001b[0;31m# re-raise KeyboardInterrupt, to truncate traceback\u001b[0m\u001b[0;34m\u001b[0m\u001b[0;34m\u001b[0m\u001b[0m\n\u001b[0;32m--> 895\u001b[0;31m                 \u001b[0;32mraise\u001b[0m \u001b[0mKeyboardInterrupt\u001b[0m\u001b[0;34m(\u001b[0m\u001b[0;34m\"Interrupted by user\"\u001b[0m\u001b[0;34m)\u001b[0m \u001b[0;32mfrom\u001b[0m \u001b[0;32mNone\u001b[0m\u001b[0;34m\u001b[0m\u001b[0;34m\u001b[0m\u001b[0m\n\u001b[0m\u001b[1;32m    896\u001b[0m             \u001b[0;32mexcept\u001b[0m \u001b[0mException\u001b[0m \u001b[0;32mas\u001b[0m \u001b[0me\u001b[0m\u001b[0;34m:\u001b[0m\u001b[0;34m\u001b[0m\u001b[0;34m\u001b[0m\u001b[0m\n\u001b[1;32m    897\u001b[0m                 \u001b[0mself\u001b[0m\u001b[0;34m.\u001b[0m\u001b[0mlog\u001b[0m\u001b[0;34m.\u001b[0m\u001b[0mwarning\u001b[0m\u001b[0;34m(\u001b[0m\u001b[0;34m\"Invalid Message:\"\u001b[0m\u001b[0;34m,\u001b[0m \u001b[0mexc_info\u001b[0m\u001b[0;34m=\u001b[0m\u001b[0;32mTrue\u001b[0m\u001b[0;34m)\u001b[0m\u001b[0;34m\u001b[0m\u001b[0;34m\u001b[0m\u001b[0m\n",
            "\u001b[0;31mKeyboardInterrupt\u001b[0m: Interrupted by user"
          ]
        }
      ],
      "source": [
        "def chatbot_astronauta():\n",
        "  \"\"\"\n",
        "  Função que simula um chatbot para comunicação entre astronautas e naves,\n",
        "  com um menu de ajuda e informações detalhadas sobre a missão.\n",
        "  \"\"\"\n",
        "  print(\"Bem-vindo a bordo, astronauta! Sou o IA4-SCIENCE, seu assistente de bordo.\")\n",
        "  print(\"Para acessar as demais informações detalhadas da missão e outros, digite 'ajuda'.\\n\")\n",
        "\n",
        "  sessao_ativa = False\n",
        "\n",
        "  while True:\n",
        "    mensagem = input(\"Você: \")\n",
        "    mensagem = mensagem.lower()\n",
        "\n",
        "    if \"ajuda\" in mensagem:\n",
        "      sessao_ativa = True\n",
        "      print(\"\\nSessão de Ajuda Iniciada.\")\n",
        "      print(\"Comandos disponíveis:\")\n",
        "      print(\"  - temperatura: Informa a temperatura interna e externa da nave.\")\n",
        "      print(\"  - objetivo: Descreve o objetivo da missão e sua duração.\")\n",
        "      print(\"  - iluminação: Informa o nível de iluminação da cabine e permite ajustes.\")\n",
        "      print(\"  - posição: Informa a posição orbital atual da nave.\")\n",
        "      print(\"  - altitude: Informa a altitude atual da nave.\")\n",
        "      print(\"  - duração: Informa o tempo total da missão e o tempo restante.\")\n",
        "      print(\"  - status da nave: Informa o status dos sistemas da nave.\")\n",
        "      print(\"  - status dos astronautas: Informa o status dos astronautas a bordo.\")\n",
        "      print(\"  - sair: Encerra a sessão de ajuda.\")\n",
        "    elif sessao_ativa:\n",
        "      if \"temperatura\" in mensagem:\n",
        "        print(\"Nave: Temperatura interna: 23°C. Temperatura externa: -100°C. Deseja alterar? (sim/não)\")\n",
        "        resposta= input(\"Você: \")\n",
        "        if \"sim\" in resposta:\n",
        "          print(\"Nave: Ajustando temperatura adequada...\") # Simulação de ajuste\n",
        "          print(\"Temperatura ajustada com sucesso!\")\n",
        "        else:\n",
        "          print(\"Nave: Temperatura mantida.\")\n",
        "      elif \"objetivo\" in mensagem:\n",
        "        print(\"Nave: Exploração e coleta de dados em Marte. Duração prevista: 2 anos.\")\n",
        "      elif \"iluminação\" in mensagem:\n",
        "        print(\"Nave: Iluminação da cabine em 70%. Deseja ajustar? (sim/não)\")\n",
        "        resposta = input(\"Você: \")\n",
        "        if \"sim\" in resposta:\n",
        "          print(\"Nave: Ajustando iluminação...\") # Simulação de ajuste\n",
        "          print(\"Iluminação ajustada com sucesso!\")\n",
        "        else:\n",
        "          print(\"Nave: Iluminação mantida.\")\n",
        "      elif \"posição\" in mensagem:\n",
        "        print(\"Nave: Orbitando Marte a 300km de altitude.\")\n",
        "      elif \"altitude\" in mensagem:\n",
        "        print(\"Nave: Altitude atual: 300km.\")\n",
        "      elif \"duração\" in mensagem:\n",
        "        print(\"Nave: Tempo total da missão: 2 anos. Tempo restante: 1 ano e 6 meses.\")\n",
        "      elif \"status da nave\" in mensagem:\n",
        "        print(\"Nave: Todos os sistemas operacionais. Sem anomalias.\" \"Operando Normalmente\")\n",
        "        print(\"Localização atual: Órbita marciana.\")\n",
        "      elif \"status dos astronautas\" in mensagem:\n",
        "        print(\"Nave: Astronauta 1: Ativo. Astronauta 2: Inativo (em sono criogênico).\")\n",
        "      elif \"sair\" in mensagem:\n",
        "        sessao_ativa = False\n",
        "        print(\"Nave: Sessão de Ajuda encerrada. Obrigado por estar aqui.\")\n",
        "      else:\n",
        "        print(\"Nave: Comando inválido. Digite 'ajuda' para ver as opções.\")\n",
        "    else:\n",
        "      print(\"Nave: Para acessar as informações da missão, digite 'ajuda'.\")\n",
        "\n",
        "chatbot_astronauta()"
      ]
    }
  ],
  "metadata": {
    "colab": {
      "provenance": [],
      "authorship_tag": "ABX9TyPZXSCKveDKH7pLLG9yJJD8",
      "include_colab_link": true
    },
    "kernelspec": {
      "display_name": "Python 3",
      "name": "python3"
    },
    "language_info": {
      "name": "python"
    }
  },
  "nbformat": 4,
  "nbformat_minor": 0
}